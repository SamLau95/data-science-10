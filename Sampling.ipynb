{
 "metadata": {
  "name": "",
  "signature": "sha256:4c3fc3cea2b7f2779e511a36d95e6218431fac6d4d752b9542d9ecdfc7be5cd6"
 },
 "nbformat": 3,
 "nbformat_minor": 0,
 "worksheets": [
  {
   "cells": [
    {
     "cell_type": "code",
     "collapsed": false,
     "input": [
      "import random\n",
      "%matplotlib inline\n",
      "import matplotlib.pyplot as plt"
     ],
     "language": "python",
     "metadata": {},
     "outputs": [],
     "prompt_number": 1
    },
    {
     "cell_type": "code",
     "collapsed": false,
     "input": [
      "def sample_with_replacement(lst, n):\n",
      "    \"\"\"Takes a sample with replacement of size n from the list.\"\"\"\n",
      "    return [random.choice(lst) for i in range(n)]"
     ],
     "language": "python",
     "metadata": {},
     "outputs": [],
     "prompt_number": 2
    },
    {
     "cell_type": "code",
     "collapsed": false,
     "input": [
      "def sample_without_replacement(lst, n):\n",
      "    \"\"\"Takes a sample without replacement of size n from the list.\"\"\"\n",
      "    return random.sample(lst, n)"
     ],
     "language": "python",
     "metadata": {},
     "outputs": [],
     "prompt_number": 3
    },
    {
     "cell_type": "code",
     "collapsed": false,
     "input": [
      "print sample_with_replacement(range(100), 10)"
     ],
     "language": "python",
     "metadata": {},
     "outputs": [
      {
       "output_type": "stream",
       "stream": "stdout",
       "text": [
        "[60, 79, 54, 31, 68, 40, 56, 84, 71, 47]\n"
       ]
      }
     ],
     "prompt_number": 4
    },
    {
     "cell_type": "code",
     "collapsed": false,
     "input": [
      "print sample_without_replacement(range(100), 10)"
     ],
     "language": "python",
     "metadata": {},
     "outputs": [
      {
       "output_type": "stream",
       "stream": "stdout",
       "text": [
        "[9, 87, 34, 15, 52, 20, 18, 64, 81, 96]\n"
       ]
      }
     ],
     "prompt_number": 5
    },
    {
     "cell_type": "code",
     "collapsed": false,
     "input": [
      "def split_samples(sample_1, sample_2):\n",
      "    \"\"\"Given two samples combine into one large sample and\n",
      "    split randomly into two new samples of size N and M.\n",
      "    \n",
      "    Input: two lists of size N and M\n",
      "    Output: a tuple containing two new lists of size N and M\"\"\"\n",
      "    N = len(sample_1)\n",
      "    combined_sample = sample_1 + sample_2\n",
      "    random.shuffle(combined_sample)\n",
      "    return combined_sample[:N], combined_sample[N:]"
     ],
     "language": "python",
     "metadata": {},
     "outputs": [],
     "prompt_number": 6
    },
    {
     "cell_type": "code",
     "collapsed": false,
     "input": [
      "# Create two samples that will be used for the rest of the notebook.\n",
      "sample_1 = [random.random() for i in range(10)]\n",
      "sample_2 = [random.random() + 0.4 for i in range(15)]"
     ],
     "language": "python",
     "metadata": {},
     "outputs": [],
     "prompt_number": 7
    },
    {
     "cell_type": "code",
     "collapsed": false,
     "input": [
      "print split_samples(sample_1, sample_2)"
     ],
     "language": "python",
     "metadata": {},
     "outputs": [
      {
       "output_type": "stream",
       "stream": "stdout",
       "text": [
        "([0.7180054946344957, 0.5257250306904986, 0.999909675027137, 1.2901047025673675, 1.1169087173083871, 0.8620930493828475, 0.4960860244803339, 0.8788791018850572, 0.48852229802646197, 0.6250415313733744], [0.47430821247972277, 1.3495589021080474, 0.8240863795547424, 1.0552488932345376, 0.5166076873530893, 0.573695812926161, 1.0403318238148702, 1.101550903735294, 1.1505480397592116, 0.9899275783777052, 0.1896511848764333, 0.30258793353420543, 0.6313016254129772, 0.24684568555084674, 0.8535479468218982])\n"
       ]
      }
     ],
     "prompt_number": 8
    },
    {
     "cell_type": "code",
     "collapsed": false,
     "input": [
      "def diff_means(sample_1, sample_2):\n",
      "    \"\"\"Given two samples as lists of numbers, returns the mean of the\n",
      "    first sample - the mean of the second.\"\"\"\n",
      "    def mean(sample): return sum(sample) / float(len(sample))\n",
      "    return mean(sample_1) - mean(sample_2)"
     ],
     "language": "python",
     "metadata": {},
     "outputs": [],
     "prompt_number": 9
    },
    {
     "cell_type": "code",
     "collapsed": false,
     "input": [
      "print diff_means(sample_1, sample_2)"
     ],
     "language": "python",
     "metadata": {},
     "outputs": [
      {
       "output_type": "stream",
       "stream": "stdout",
       "text": [
        "-0.342300900838\n"
       ]
      }
     ],
     "prompt_number": 10
    },
    {
     "cell_type": "code",
     "collapsed": false,
     "input": [
      "def permutation_test(sample_1, sample_2, num_splits=1000):\n",
      "    \"\"\"Split samples num_splits times. Displays a histogram of the diff_means\n",
      "    of the splits and highlights the diff_means of the original samples.\n",
      "    \n",
      "    Input: two samples as lists of numbers, and a number of splits to take as an int\n",
      "    Output: displays histogram and returns None\"\"\"\n",
      "    d_observed = diff_means(sample_1, sample_2)\n",
      "    all_splits = [split_samples(sample_1, sample_2) for i in range(num_splits)]\n",
      "    all_diff_means = [diff_means(*split) for split in all_splits]\n",
      "\n",
      "    plt.xlabel(\"Difference of sample means\")\n",
      "    plt.ylabel(\"Frequency\")\n",
      "    plt.hist(all_diff_means, bins=10)\n",
      "    plt.axvline(d_observed, color='r', linestyle='dashed', linewidth=2, label=\"$d_{observed}$\")\n",
      "    plt.legend()\n",
      "    return None"
     ],
     "language": "python",
     "metadata": {},
     "outputs": [],
     "prompt_number": 11
    },
    {
     "cell_type": "code",
     "collapsed": false,
     "input": [
      "permutation_test(sample_1, sample_2)"
     ],
     "language": "python",
     "metadata": {},
     "outputs": [
      {
       "metadata": {},
       "output_type": "display_data",
       "png": "[encoded data removed]",
       "text": [
        "<matplotlib.figure.Figure at 0x1028ab610>"
       ]
      }
     ],
     "prompt_number": 12
    }
   ],
   "metadata": {}
  }
 ]
}